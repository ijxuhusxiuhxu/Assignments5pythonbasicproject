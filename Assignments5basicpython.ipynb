{
  "nbformat": 4,
  "nbformat_minor": 0,
  "metadata": {
    "colab": {
      "provenance": [],
      "toc_visible": true
    },
    "kernelspec": {
      "name": "python3",
      "display_name": "Python 3"
    },
    "language_info": {
      "name": "python"
    }
  },
  "cells": [
    {
      "cell_type": "markdown",
      "source": [
        "#Q1.What does an empty dictionary&#39;s code look like?"
      ],
      "metadata": {
        "id": "00W1gdJP1Ham"
      }
    },
    {
      "cell_type": "code",
      "source": [
        "#In Python, an empty dictionary is represented by a pair of curly braces {} with nothing inside. Here's what the code for an empty dictionary looks like\n",
        "empty_dict = {}\n"
      ],
      "metadata": {
        "id": "PKb1GdyC1Gpn"
      },
      "execution_count": 1,
      "outputs": []
    },
    {
      "cell_type": "markdown",
      "source": [
        "#Q2.What is the value of a dictionary value with the key &#39;foo&#39; and the value 42?"
      ],
      "metadata": {
        "id": "a6X97Onk1zXK"
      }
    },
    {
      "cell_type": "code",
      "source": [
        "#In a dictionary, values are associated with keys, and you can access a value using its corresponding key. If you have a dictionary with the key 'foo' and the value 42, you would access the value by using the key 'foo'.\n",
        "my_dict = {'foo': 42}\n",
        "value_of_foo = my_dict['foo']\n",
        "print(value_of_foo)  # This will print 42"
      ],
      "metadata": {
        "colab": {
          "base_uri": "https://localhost:8080/"
        },
        "id": "WFkM5WS21y6t",
        "outputId": "3394fb06-c37c-4aec-c540-0cf2f2e67b95"
      },
      "execution_count": 2,
      "outputs": [
        {
          "output_type": "stream",
          "name": "stdout",
          "text": [
            "42\n"
          ]
        }
      ]
    },
    {
      "cell_type": "markdown",
      "source": [
        "#Q3.What is the most significant distinction between a dictionary and a list?"
      ],
      "metadata": {
        "id": "K_orFQdv2P3w"
      }
    },
    {
      "cell_type": "code",
      "source": [
        "#The most significant distinction between a dictionary and a list in programming\n",
        "\n",
        "#Keys and Values vs. Ordered Elements:\n",
        "#Dictionary: A dictionary is a collection of key-value pairs, where each key is unique and associated with a value\n",
        "#List: A list is an ordered collection of elements where each element is identified by its position (index). Lists maintain the order of elements and allow duplicate values.\n",
        "\n",
        "#Accessing Data:\n",
        "#Dictionary: Values in a dictionary are accessed by their keys. This allows for fast and efficient retrieval of values based on specific identifiers (keys)\n",
        "#List: Elements in a list are accessed by their index positions, starting from 0. This makes it straightforward to access elements based on their order.\n",
        "\n",
        "#Use Cases:\n",
        "#Dictionary: Dictionaries are suitable for scenarios where you have a set of unique keys and associated values, such as storing information about objects with distinct attributes or settings.\n",
        "#List: Lists are used when you have a collection of items that need to maintain their order, and you might need to add, remove, or modify elements frequently.\n",
        "\n",
        "#Mutability:\n",
        "#Dictionary: Dictionaries are mutable, which means you can change their content after they are created. You can add, update, or remove key-value pairs.\n",
        "#List: Lists are also mutable, allowing you to modify their elements by reassigning values, adding new elements, or removing existing ones.\n",
        "\n",
        "#Syntax:\n",
        "#Dictionary: Created using curly braces {}, with key-value pairs separated by colons. Keys and values are separated by commas.\n",
        "#List: Created using square brackets [], with elements separated by commas.\n",
        "\n",
        "#Example of a dictionary\n",
        "person = {'name': 'John', 'age': 30, 'city': 'New York'}\n",
        "print(person)\n",
        "\n",
        "#Example of a list\n",
        "fruits = ['apple', 'banana', 'orange']\n",
        "print(fruits)\n"
      ],
      "metadata": {
        "colab": {
          "base_uri": "https://localhost:8080/"
        },
        "id": "lGq913n61EYr",
        "outputId": "43d11c84-19e7-44f1-c468-03165716c5d7"
      },
      "execution_count": 5,
      "outputs": [
        {
          "output_type": "stream",
          "name": "stdout",
          "text": [
            "{'name': 'John', 'age': 30, 'city': 'New York'}\n",
            "['apple', 'banana', 'orange']\n"
          ]
        }
      ]
    },
    {
      "cell_type": "markdown",
      "source": [
        "#Q4.What happens if you try to access spam[&#39;foo&#39;] if spam is {&#39;bar&#39;: 100}?"
      ],
      "metadata": {
        "id": "5To6Oxfe44rZ"
      }
    },
    {
      "cell_type": "code",
      "execution_count": 7,
      "metadata": {
        "colab": {
          "base_uri": "https://localhost:8080/"
        },
        "id": "2wbyztK20zkq",
        "outputId": "03e2b986-15ff-47df-8c47-10da711f5bf0"
      },
      "outputs": [
        {
          "output_type": "stream",
          "name": "stdout",
          "text": [
            "Key 'foo' does not exist in the dictionary.\n"
          ]
        }
      ],
      "source": [
        "spam = {'bar': 100}\n",
        "\n",
        "try:\n",
        "    value = spam['foo']\n",
        "    print(value)\n",
        "except KeyError:\n",
        "    print(\"Key 'foo' does not exist in the dictionary.\")\n",
        "#In this example, the code will print: \"Key 'foo' does not exist in the dictionary.\" This is because the key 'foo' is not present in the dictionary spam, and attempting to access it results in a KeyError being caught and handled by the except block."
      ]
    },
    {
      "cell_type": "markdown",
      "source": [
        "#Q5. If a dictionary is stored in spam, what is the difference between the expressions &#39;cat&#39; in spam and\n",
        "&#39;cat&#39; in spam.keys()?"
      ],
      "metadata": {
        "id": "0oPEe33M5XU1"
      }
    },
    {
      "cell_type": "code",
      "source": [
        "spam = {'cat': 42, 'dog': 17, 'rabbit': 7}\n",
        "\n",
        "# Using 'in' to check if 'cat' is a key in the dictionary\n",
        "print('cat' in spam)            # Output: True\n",
        "\n",
        "# Using 'in' and .keys() to check if 'cat' is a key in the dictionary\n",
        "print('cat' in spam.keys())"
      ],
      "metadata": {
        "colab": {
          "base_uri": "https://localhost:8080/"
        },
        "id": "wdUSVtEQ1AKz",
        "outputId": "3fc0b6fb-f8c4-4d8a-d53e-7ee245be9e15"
      },
      "execution_count": 8,
      "outputs": [
        {
          "output_type": "stream",
          "name": "stdout",
          "text": [
            "True\n",
            "True\n"
          ]
        }
      ]
    },
    {
      "cell_type": "markdown",
      "source": [
        "#Q6.If a dictionary is stored in spam, what is the difference between the expressions &#39;cat&#39; in spam and\n",
        "&#39;cat&#39; in spam.values()?"
      ],
      "metadata": {
        "id": "V1PAanWT6GUX"
      }
    },
    {
      "cell_type": "code",
      "source": [
        "spam = {'name': 'cat', 'age': 3, 'species': 'feline'}\n",
        "\n",
        "# Using 'in' to check if 'cat' is a key in the dictionary\n",
        "print('cat' in spam)               # Output: False\n",
        "\n",
        "# Using 'in' and .values() to check if 'cat' is a value in the dictionary\n",
        "print('cat' in spam.values())      # Output: True\n"
      ],
      "metadata": {
        "colab": {
          "base_uri": "https://localhost:8080/"
        },
        "id": "qjvnvzbJ1ANk",
        "outputId": "5dcc50aa-40c8-45ef-a4cc-65b9e4542840"
      },
      "execution_count": 9,
      "outputs": [
        {
          "output_type": "stream",
          "name": "stdout",
          "text": [
            "False\n",
            "True\n"
          ]
        }
      ]
    },
    {
      "cell_type": "markdown",
      "source": [
        "#Q7.What is a shortcut for the following code?\n",
        "if &#39;color&#39; not in spam:\n",
        "spam[&#39;color&#39;] = &#39;black&#39;"
      ],
      "metadata": {
        "id": "dx46iRTx6nBl"
      }
    },
    {
      "cell_type": "code",
      "source": [
        "#can use the dict.setdefault() method to achieve the same result in a more concise way. Here's how you can use it as a shortcut for your code\n",
        "spam.setdefault('color', 'black')"
      ],
      "metadata": {
        "colab": {
          "base_uri": "https://localhost:8080/",
          "height": 35
        },
        "id": "peGTRlS61APV",
        "outputId": "9b51cec1-af58-4549-9bdf-4a823e55ceb1"
      },
      "execution_count": 12,
      "outputs": [
        {
          "output_type": "execute_result",
          "data": {
            "text/plain": [
              "'black'"
            ],
            "application/vnd.google.colaboratory.intrinsic+json": {
              "type": "string"
            }
          },
          "metadata": {},
          "execution_count": 12
        }
      ]
    },
    {
      "cell_type": "code",
      "source": [
        "#The dict.setdefault() method checks if the given key ('color' in this case) is already present in the dictionary (spam). If it's not present, it adds the key with the provided default value ('black' in this case).\n",
        "if 'color' not in spam:\n",
        "    spam['color'] = 'black'"
      ],
      "metadata": {
        "id": "sYjUJnaQ1ASm"
      },
      "execution_count": 14,
      "outputs": []
    },
    {
      "cell_type": "markdown",
      "source": [
        "#Q8.How do you &quot;pretty print&quot; dictionary values using which module and function?"
      ],
      "metadata": {
        "id": "8VmZ2scT7Wbf"
      }
    },
    {
      "cell_type": "code",
      "source": [
        "#To \"pretty print\" dictionary values in Python, you can use the pprint module, specifically the pprint() function from this module. The pprint module provides a way to print data structures like dictionaries in a more readable and organized format\n",
        "import pprint\n",
        "\n",
        "my_dict = {'name': 'John', 'age': 30, 'city': 'New York'}\n",
        "\n",
        "pprint.pprint(my_dict)\n"
      ],
      "metadata": {
        "colab": {
          "base_uri": "https://localhost:8080/"
        },
        "id": "Al0K0VjU1AU1",
        "outputId": "c946d4e3-06eb-433d-fd89-10a1abe66909"
      },
      "execution_count": 15,
      "outputs": [
        {
          "output_type": "stream",
          "name": "stdout",
          "text": [
            "{'age': 30, 'city': 'New York', 'name': 'John'}\n"
          ]
        }
      ]
    },
    {
      "cell_type": "code",
      "source": [],
      "metadata": {
        "id": "Bh-I2RS-1AWU"
      },
      "execution_count": null,
      "outputs": []
    },
    {
      "cell_type": "code",
      "source": [],
      "metadata": {
        "id": "rnA4fIyb1AXs"
      },
      "execution_count": null,
      "outputs": []
    },
    {
      "cell_type": "code",
      "source": [],
      "metadata": {
        "id": "j2g_ZasS1AZd"
      },
      "execution_count": null,
      "outputs": []
    },
    {
      "cell_type": "code",
      "source": [],
      "metadata": {
        "id": "HNQvuYyV1Abf"
      },
      "execution_count": null,
      "outputs": []
    },
    {
      "cell_type": "code",
      "source": [],
      "metadata": {
        "id": "vtGAjHfQ1Aeq"
      },
      "execution_count": null,
      "outputs": []
    },
    {
      "cell_type": "code",
      "source": [],
      "metadata": {
        "id": "b2WkVrqn1Ag5"
      },
      "execution_count": null,
      "outputs": []
    },
    {
      "cell_type": "code",
      "source": [],
      "metadata": {
        "id": "9j0LVkyf1Ais"
      },
      "execution_count": null,
      "outputs": []
    },
    {
      "cell_type": "code",
      "source": [],
      "metadata": {
        "id": "HAy81xdT1Aks"
      },
      "execution_count": null,
      "outputs": []
    },
    {
      "cell_type": "code",
      "source": [],
      "metadata": {
        "id": "pYH9J3eQ1Amx"
      },
      "execution_count": null,
      "outputs": []
    },
    {
      "cell_type": "code",
      "source": [],
      "metadata": {
        "id": "JdkgwyjH1ApF"
      },
      "execution_count": null,
      "outputs": []
    },
    {
      "cell_type": "code",
      "source": [],
      "metadata": {
        "id": "0B8TqAcC1ArN"
      },
      "execution_count": null,
      "outputs": []
    },
    {
      "cell_type": "code",
      "source": [],
      "metadata": {
        "id": "SkzSZF2b1At4"
      },
      "execution_count": null,
      "outputs": []
    },
    {
      "cell_type": "code",
      "source": [],
      "metadata": {
        "id": "GbR-qM0P1AwO"
      },
      "execution_count": null,
      "outputs": []
    },
    {
      "cell_type": "code",
      "source": [],
      "metadata": {
        "id": "s2j5iQWA1Ayy"
      },
      "execution_count": null,
      "outputs": []
    },
    {
      "cell_type": "code",
      "source": [],
      "metadata": {
        "id": "AZaO_3b-1A1T"
      },
      "execution_count": null,
      "outputs": []
    },
    {
      "cell_type": "code",
      "source": [],
      "metadata": {
        "id": "vRwNUkHi1A38"
      },
      "execution_count": null,
      "outputs": []
    },
    {
      "cell_type": "code",
      "source": [],
      "metadata": {
        "id": "mGTkRJQb1A6Q"
      },
      "execution_count": null,
      "outputs": []
    },
    {
      "cell_type": "code",
      "source": [],
      "metadata": {
        "id": "UZ_V-BxT1A8K"
      },
      "execution_count": null,
      "outputs": []
    },
    {
      "cell_type": "code",
      "source": [],
      "metadata": {
        "id": "-JrkGRDe1A-x"
      },
      "execution_count": null,
      "outputs": []
    },
    {
      "cell_type": "code",
      "source": [],
      "metadata": {
        "id": "i83ivfE91BBH"
      },
      "execution_count": null,
      "outputs": []
    },
    {
      "cell_type": "code",
      "source": [],
      "metadata": {
        "id": "NWpCKET-1BDf"
      },
      "execution_count": null,
      "outputs": []
    },
    {
      "cell_type": "code",
      "source": [],
      "metadata": {
        "id": "aN2RSLF01BHF"
      },
      "execution_count": null,
      "outputs": []
    },
    {
      "cell_type": "code",
      "source": [],
      "metadata": {
        "id": "Ht9wxA0K1BJb"
      },
      "execution_count": null,
      "outputs": []
    },
    {
      "cell_type": "code",
      "source": [],
      "metadata": {
        "id": "v1fzYXtb1BLf"
      },
      "execution_count": null,
      "outputs": []
    },
    {
      "cell_type": "code",
      "source": [],
      "metadata": {
        "id": "NH7PI4bb1BNr"
      },
      "execution_count": null,
      "outputs": []
    },
    {
      "cell_type": "code",
      "source": [],
      "metadata": {
        "id": "cSdfuDxS1BQe"
      },
      "execution_count": null,
      "outputs": []
    },
    {
      "cell_type": "code",
      "source": [],
      "metadata": {
        "id": "GzotI5_U1BS1"
      },
      "execution_count": null,
      "outputs": []
    },
    {
      "cell_type": "code",
      "source": [],
      "metadata": {
        "id": "Mpf4XPI51BVR"
      },
      "execution_count": null,
      "outputs": []
    },
    {
      "cell_type": "code",
      "source": [],
      "metadata": {
        "id": "cXfIQdp-1BXf"
      },
      "execution_count": null,
      "outputs": []
    },
    {
      "cell_type": "code",
      "source": [],
      "metadata": {
        "id": "I81QCurk1Ba7"
      },
      "execution_count": null,
      "outputs": []
    }
  ]
}